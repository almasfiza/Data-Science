{
  "nbformat": 4,
  "nbformat_minor": 0,
  "metadata": {
    "colab": {
      "name": "Task1.ipynb",
      "provenance": [],
      "collapsed_sections": [],
      "authorship_tag": "ABX9TyMVlfbtcRLaT06AgA0PUx5h",
      "include_colab_link": true
    },
    "kernelspec": {
      "name": "python3",
      "display_name": "Python 3"
    }
  },
  "cells": [
    {
      "cell_type": "markdown",
      "metadata": {
        "id": "view-in-github",
        "colab_type": "text"
      },
      "source": [
        "<a href=\"https://colab.research.google.com/github/almasfiza/Data-Science/blob/master/Task1.ipynb\" target=\"_parent\"><img src=\"https://colab.research.google.com/assets/colab-badge.svg\" alt=\"Open In Colab\"/></a>"
      ]
    },
    {
      "cell_type": "markdown",
      "metadata": {
        "id": "75mvhvfZr7ir"
      },
      "source": [
        "# **Data Science and Business Analytics Internship Task 1**\n",
        "\n",
        "\n",
        "Prediction using Supervised Machine Learning.\n",
        "\n",
        "###**Supervised Machine Learning**\n",
        "\n",
        "Majority of practical machine learning problems involve supervised machine learning. There are two variables being used- X or the input variable and Y or the output variable. This algorithm maps the function of dependency between the two variables where one variable can be used to predict the value of the other variable.\n",
        "\n",
        "                                  Y = f(X)\n",
        "\n",
        "                        \n",
        "The dataset is divided into two parts- test data and training data. The algorithm runs on the training data and predicts the values of Y for values of X. This predicition is then used on the test data. The training data acts as labels for the test data prediction.\n",
        "\n",
        "When an acceptable level of performance is achieved, the algorithm stops. \n",
        "\n",
        "There are two sub categories of Supervised Learning \n",
        "\n",
        "1. Classification : When output variable is a category like the color red or blue.\n",
        "2. Regression : The output variable is a real value like weights or heights.\n",
        "\n",
        "Some popular examples of Supervised Machine Learning algorithms are \n",
        "1. Linear regression for regression problems.\n",
        "2. Random Forest for classification and regression problems.\n",
        "3. Support Vector Machines (SVM) for classification problems.\n",
        "\n",
        "  \n"
      ]
    },
    {
      "cell_type": "markdown",
      "metadata": {
        "id": "F5U93_U0HGFH"
      },
      "source": [
        "**TASK 1- Predict the percentage of student based on the number of study hours using the linear regression, supervised machine learning algorithm.**"
      ]
    },
    {
      "cell_type": "markdown",
      "metadata": {
        "id": "Egu8eyOmfiQt"
      },
      "source": [
        "**Step 1**"
      ]
    },
    {
      "cell_type": "code",
      "metadata": {
        "id": "y8gH9tvZr4yH"
      },
      "source": [
        "#Step 1.a: Importing the libraries\n",
        "import pandas as pd\n",
        "import numpy as np\n",
        "import matplotlib.pyplot as plt\n",
        "%matplotlib inline"
      ],
      "execution_count": 1,
      "outputs": []
    },
    {
      "cell_type": "code",
      "metadata": {
        "id": "XknQLQIMgtOf"
      },
      "source": [
        "#Step 1.b: Import the dataset using a url\n",
        "url = \"http://bit.ly/w-data\"\n",
        "data = pd.read_csv(url)"
      ],
      "execution_count": 2,
      "outputs": []
    },
    {
      "cell_type": "code",
      "metadata": {
        "colab": {
          "base_uri": "https://localhost:8080/",
          "height": 197
        },
        "id": "JEkh6VtdhFBf",
        "outputId": "b7a329fe-d358-4782-b41f-6007ed3eee3c"
      },
      "source": [
        "# Exploring the dataset\n",
        "data.head()"
      ],
      "execution_count": 3,
      "outputs": [
        {
          "output_type": "execute_result",
          "data": {
            "text/html": [
              "<div>\n",
              "<style scoped>\n",
              "    .dataframe tbody tr th:only-of-type {\n",
              "        vertical-align: middle;\n",
              "    }\n",
              "\n",
              "    .dataframe tbody tr th {\n",
              "        vertical-align: top;\n",
              "    }\n",
              "\n",
              "    .dataframe thead th {\n",
              "        text-align: right;\n",
              "    }\n",
              "</style>\n",
              "<table border=\"1\" class=\"dataframe\">\n",
              "  <thead>\n",
              "    <tr style=\"text-align: right;\">\n",
              "      <th></th>\n",
              "      <th>Hours</th>\n",
              "      <th>Scores</th>\n",
              "    </tr>\n",
              "  </thead>\n",
              "  <tbody>\n",
              "    <tr>\n",
              "      <th>0</th>\n",
              "      <td>2.5</td>\n",
              "      <td>21</td>\n",
              "    </tr>\n",
              "    <tr>\n",
              "      <th>1</th>\n",
              "      <td>5.1</td>\n",
              "      <td>47</td>\n",
              "    </tr>\n",
              "    <tr>\n",
              "      <th>2</th>\n",
              "      <td>3.2</td>\n",
              "      <td>27</td>\n",
              "    </tr>\n",
              "    <tr>\n",
              "      <th>3</th>\n",
              "      <td>8.5</td>\n",
              "      <td>75</td>\n",
              "    </tr>\n",
              "    <tr>\n",
              "      <th>4</th>\n",
              "      <td>3.5</td>\n",
              "      <td>30</td>\n",
              "    </tr>\n",
              "  </tbody>\n",
              "</table>\n",
              "</div>"
            ],
            "text/plain": [
              "   Hours  Scores\n",
              "0    2.5      21\n",
              "1    5.1      47\n",
              "2    3.2      27\n",
              "3    8.5      75\n",
              "4    3.5      30"
            ]
          },
          "metadata": {
            "tags": []
          },
          "execution_count": 3
        }
      ]
    },
    {
      "cell_type": "markdown",
      "metadata": {
        "id": "YGPkuUPYhSYD"
      },
      "source": [
        "Since our dataset is pretty simple with Hours and Scores, it easily gives us the idea about the data we are dealing with.\n",
        "\n",
        "In other cases we can use some more functions in python to get an idea about the data we are using. Like data.shape and data.describe()."
      ]
    },
    {
      "cell_type": "code",
      "metadata": {
        "colab": {
          "base_uri": "https://localhost:8080/"
        },
        "id": "zgd1rUXIhKUZ",
        "outputId": "5d28eb88-c7e6-4e6c-ec5d-b8f9e758ede3"
      },
      "source": [
        "#data.shape gives the no. of rows and columns\n",
        "data.shape"
      ],
      "execution_count": 4,
      "outputs": [
        {
          "output_type": "execute_result",
          "data": {
            "text/plain": [
              "(25, 2)"
            ]
          },
          "metadata": {
            "tags": []
          },
          "execution_count": 4
        }
      ]
    },
    {
      "cell_type": "markdown",
      "metadata": {
        "id": "TWLzvPI0h_xT"
      },
      "source": [
        "Hence we have 25 row entries and 2 columns."
      ]
    },
    {
      "cell_type": "markdown",
      "metadata": {
        "id": "93HjiXJyfot6"
      },
      "source": [
        "**Step 2**"
      ]
    },
    {
      "cell_type": "code",
      "metadata": {
        "colab": {
          "base_uri": "https://localhost:8080/",
          "height": 294
        },
        "id": "TTrd5aFRh8P4",
        "outputId": "c8930a3c-7300-4c15-f0b5-50cc31440f00"
      },
      "source": [
        "#Step 2: Visualising the dataset\n",
        "data.plot.scatter(x= \"Hours\",\n",
        "                  y=\"Scores\", \n",
        "                  title=\"Hours vs Score\", \n",
        "                  xlabel='No. of hours studied',\n",
        "                  ylabel='Score or percentage',\n",
        "                  color='black');\n",
        "plt.grid();\n",
        "plt.show();\n",
        "\n",
        "\n"
      ],
      "execution_count": 5,
      "outputs": [
        {
          "output_type": "display_data",
          "data": {
            "image/png": "[encoded data removed]",
            "text/plain": [
              "<Figure size 432x288 with 1 Axes>"
            ]
          },
          "metadata": {
            "tags": [],
            "needs_background": "light"
          }
        }
      ]
    },
    {
      "cell_type": "markdown",
      "metadata": {
        "id": "5fxWBKgVlUyq"
      },
      "source": [
        "From the graph, we observe that there is a linear relation between the two variables- score and no. of hours spent by a student studying. We can apply linear regression to predict the value."
      ]
    },
    {
      "cell_type": "markdown",
      "metadata": {
        "id": "ho9geCppf9bi"
      },
      "source": [
        "Step 3"
      ]
    },
    {
      "cell_type": "code",
      "metadata": {
        "id": "4mhtverfi4Qe"
      },
      "source": [
        "#Step 3: Data Preparation- Data is going to be divided into two parts attributes(inputs) and labels(output).\n",
        "x = data.iloc[:,:-1].values\n",
        "y = data.iloc[:,1]\n"
      ],
      "execution_count": 6,
      "outputs": []
    },
    {
      "cell_type": "code",
      "metadata": {
        "id": "p7IcKCFurStn"
      },
      "source": [
        "#splitting the data into train and test data\n",
        "\n",
        "from sklearn.model_selection import train_test_split\n",
        "\n",
        "X_train, X_test, Y_train, Y_test = train_test_split(x, y, test_size = 0.2, random_state = 0)"
      ],
      "execution_count": 7,
      "outputs": []
    },
    {
      "cell_type": "markdown",
      "metadata": {
        "id": "caGCYiw6f_8d"
      },
      "source": [
        "**Step 4**"
      ]
    },
    {
      "cell_type": "code",
      "metadata": {
        "colab": {
          "base_uri": "https://localhost:8080/"
        },
        "id": "MupPa9TdrqdQ",
        "outputId": "4074d6a1-2a60-4c8b-896c-b606ff72a267"
      },
      "source": [
        "#Step 4: Training the model\n",
        "\n",
        "from sklearn.linear_model import LinearRegression\n",
        "\n",
        "model = LinearRegression()\n",
        "model.fit(X_train, Y_train)"
      ],
      "execution_count": 8,
      "outputs": [
        {
          "output_type": "execute_result",
          "data": {
            "text/plain": [
              "LinearRegression(copy_X=True, fit_intercept=True, n_jobs=None, normalize=False)"
            ]
          },
          "metadata": {
            "tags": []
          },
          "execution_count": 8
        }
      ]
    },
    {
      "cell_type": "markdown",
      "metadata": {
        "id": "3zuiUBNygFxJ"
      },
      "source": [
        "**Step 5**"
      ]
    },
    {
      "cell_type": "code",
      "metadata": {
        "id": "fIzKXHeasN_I",
        "colab": {
          "base_uri": "https://localhost:8080/",
          "height": 278
        },
        "outputId": "0f960b0b-c767-4f0b-e344-a30888380b9d"
      },
      "source": [
        "#Step 5: Visualising the trained model.\n",
        "\n",
        "line = model.coef_*x + model.intercept_\n",
        "\n",
        "plt.scatter(X_train, Y_train, color='black')\n",
        "plt.plot(x, line, color='red');\n",
        "plt.xlabel('No. of hours studied')  \n",
        "plt.ylabel('Percentage Score') \n",
        "plt.grid()\n",
        "plt.show()"
      ],
      "execution_count": 9,
      "outputs": [
        {
          "output_type": "display_data",
          "data": {
            "image/png": "[encoded data removed]",
            "text/plain": [
              "<Figure size 432x288 with 1 Axes>"
            ]
          },
          "metadata": {
            "tags": [],
            "needs_background": "light"
          }
        }
      ]
    },
    {
      "cell_type": "code",
      "metadata": {
        "colab": {
          "base_uri": "https://localhost:8080/",
          "height": 278
        },
        "id": "D9b3z0Asbu_w",
        "outputId": "ab7abfdc-2dc7-4e8d-8d41-f004cc5b7bc6"
      },
      "source": [
        "#Plotting for the test data\n",
        "plt.scatter(X_test, Y_test, color='black')\n",
        "plt.plot(x, line, color='red');\n",
        "plt.xlabel('Hours Studied')  \n",
        "plt.ylabel('Percentage Score') \n",
        "plt.grid()\n",
        "plt.show()\n"
      ],
      "execution_count": 10,
      "outputs": [
        {
          "output_type": "display_data",
          "data": {
            "image/png": "[encoded data removed]",
            "text/plain": [
              "<Figure size 432x288 with 1 Axes>"
            ]
          },
          "metadata": {
            "tags": [],
            "needs_background": "light"
          }
        }
      ]
    },
    {
      "cell_type": "markdown",
      "metadata": {
        "id": "1kBXdBwMgKdD"
      },
      "source": [
        "**Step 6**"
      ]
    },
    {
      "cell_type": "code",
      "metadata": {
        "id": "vJA5L3X2ceKQ"
      },
      "source": [
        "#Step 6: Predicting\n",
        "\n",
        "Y_predicted = model.predict(X_test)"
      ],
      "execution_count": 11,
      "outputs": []
    },
    {
      "cell_type": "code",
      "metadata": {
        "colab": {
          "base_uri": "https://localhost:8080/",
          "height": 197
        },
        "id": "knXfb1V6cxod",
        "outputId": "15c7e181-db3a-4a58-a6da-18a20c475d01"
      },
      "source": [
        "# Comparing actual values vs the predicted values\n",
        "\n",
        "compare = pd.DataFrame({'Actual Score': Y_test, 'Predicted Score': Y_predicted})  \n",
        "compare"
      ],
      "execution_count": 12,
      "outputs": [
        {
          "output_type": "execute_result",
          "data": {
            "text/html": [
              "<div>\n",
              "<style scoped>\n",
              "    .dataframe tbody tr th:only-of-type {\n",
              "        vertical-align: middle;\n",
              "    }\n",
              "\n",
              "    .dataframe tbody tr th {\n",
              "        vertical-align: top;\n",
              "    }\n",
              "\n",
              "    .dataframe thead th {\n",
              "        text-align: right;\n",
              "    }\n",
              "</style>\n",
              "<table border=\"1\" class=\"dataframe\">\n",
              "  <thead>\n",
              "    <tr style=\"text-align: right;\">\n",
              "      <th></th>\n",
              "      <th>Actual Score</th>\n",
              "      <th>Predicted Score</th>\n",
              "    </tr>\n",
              "  </thead>\n",
              "  <tbody>\n",
              "    <tr>\n",
              "      <th>5</th>\n",
              "      <td>20</td>\n",
              "      <td>16.884145</td>\n",
              "    </tr>\n",
              "    <tr>\n",
              "      <th>2</th>\n",
              "      <td>27</td>\n",
              "      <td>33.732261</td>\n",
              "    </tr>\n",
              "    <tr>\n",
              "      <th>19</th>\n",
              "      <td>69</td>\n",
              "      <td>75.357018</td>\n",
              "    </tr>\n",
              "    <tr>\n",
              "      <th>16</th>\n",
              "      <td>30</td>\n",
              "      <td>26.794801</td>\n",
              "    </tr>\n",
              "    <tr>\n",
              "      <th>11</th>\n",
              "      <td>62</td>\n",
              "      <td>60.491033</td>\n",
              "    </tr>\n",
              "  </tbody>\n",
              "</table>\n",
              "</div>"
            ],
            "text/plain": [
              "    Actual Score  Predicted Score\n",
              "5             20        16.884145\n",
              "2             27        33.732261\n",
              "19            69        75.357018\n",
              "16            30        26.794801\n",
              "11            62        60.491033"
            ]
          },
          "metadata": {
            "tags": []
          },
          "execution_count": 12
        }
      ]
    },
    {
      "cell_type": "code",
      "metadata": {
        "colab": {
          "base_uri": "https://localhost:8080/"
        },
        "id": "3kYxjwnGc5FZ",
        "outputId": "94a59ecf-50a9-4e26-8e03-51c61384afa1"
      },
      "source": [
        "# Testing with your own data -  According to the task given, we have to find out the predicted score for 9.25 hours of study\n",
        "\n",
        "hours = 9.25\n",
        "own_pred = model.predict([[hours]])\n",
        "print(\"The predicted score if a person studies for\",hours,\"hours is\",own_pred[0])"
      ],
      "execution_count": 13,
      "outputs": [
        {
          "output_type": "stream",
          "text": [
            "The predicted score if a person studies for 9.25 hours is 93.69173248737539\n"
          ],
          "name": "stdout"
        }
      ]
    },
    {
      "cell_type": "markdown",
      "metadata": {
        "id": "MocE6UpugN11"
      },
      "source": [
        "**Step 7**"
      ]
    },
    {
      "cell_type": "code",
      "metadata": {
        "colab": {
          "base_uri": "https://localhost:8080/"
        },
        "id": "OyoFQkIRdWeJ",
        "outputId": "2b8d91c5-6752-4133-f76e-69ace1e7bf34"
      },
      "source": [
        "#Step 7: Finding the accuracy of the model using the mean error\n",
        "\n",
        "\n",
        "from sklearn import metrics  \n",
        "\n",
        "print('Mean Squared Error:', metrics.mean_squared_error(Y_test, Y_predicted))\n",
        "print('Mean Absolute Error:', metrics.mean_absolute_error(Y_test, Y_predicted))"
      ],
      "execution_count": 14,
      "outputs": [
        {
          "output_type": "stream",
          "text": [
            "Mean Squared Error: 21.598769307217456\n",
            "Mean Absolute Error: 4.183859899002982\n"
          ],
          "name": "stdout"
        }
      ]
    }
  ]
}