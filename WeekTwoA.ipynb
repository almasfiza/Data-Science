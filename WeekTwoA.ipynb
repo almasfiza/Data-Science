{
  "nbformat": 4,
  "nbformat_minor": 0,
  "metadata": {
    "colab": {
      "name": "WeekTwoA.ipynb",
      "provenance": [],
      "collapsed_sections": [],
      "authorship_tag": "ABX9TyN93YF0ooUgP9GAst1MtpEE",
      "include_colab_link": true
    },
    "kernelspec": {
      "name": "python3",
      "display_name": "Python 3"
    }
  },
  "cells": [
    {
      "cell_type": "markdown",
      "metadata": {
        "id": "view-in-github",
        "colab_type": "text"
      },
      "source": [
        "<a href=\"https://colab.research.google.com/github/almasfiza/Data-Science/blob/master/WeekTwoA.ipynb\" target=\"_parent\"><img src=\"https://colab.research.google.com/assets/colab-badge.svg\" alt=\"Open In Colab\"/></a>"
      ]
    },
    {
      "cell_type": "markdown",
      "metadata": {
        "id": "kubbQheopKk7",
        "colab_type": "text"
      },
      "source": [
        "**WEEK TWO A-SERIES DATA STRUCTURE IN PANDAS B-DATAFRAME**\n",
        "\n",
        "A-SERIES DATA STRUCTURE"
      ]
    },
    {
      "cell_type": "markdown",
      "metadata": {
        "id": "x4FsZ4oupc_O",
        "colab_type": "text"
      },
      "source": [
        "Series can be considered as a cross between lists and dictionaries. If you have numeric data in your series the dtype it is associated with is int and float. If you have strings in your series the dtype it is associated with is an object.\n",
        "\n",
        "For null values in the int dtype, we have the keyword NaN which means not a number. If we have a null value the dtype int is changed to float and NaN is added. For null values in the object dtype, we have the keyword Null. There is some ambiguity involved when we are comparing NaN types, example np.nan == np.nan results to False. That is why we should use inbuilt functions to work with NaN values like np.isnan(np.nan) results to True.\n",
        "\n",
        "Furthermore np.nan == Null results False."
      ]
    },
    {
      "cell_type": "markdown",
      "metadata": {
        "id": "FQwaXZBoqsMY",
        "colab_type": "text"
      },
      "source": [
        "Pandas is derived from the term **panel data**. It is an econometric term for datsets which include observations over multiple time frames for the same individual. The pandas library was used initially for handling financial datasets."
      ]
    },
    {
      "cell_type": "code",
      "metadata": {
        "id": "GlbE8Ml4qWp0",
        "colab_type": "code",
        "colab": {}
      },
      "source": [
        "#importing the pandas library\n",
        "import pandas as pd\n"
      ],
      "execution_count": null,
      "outputs": []
    },
    {
      "cell_type": "code",
      "metadata": {
        "id": "1F0ttjGRrFm3",
        "colab_type": "code",
        "colab": {
          "base_uri": "https://localhost:8080/",
          "height": 113
        },
        "outputId": "8abac629-adfd-405d-e339-fdadf5125cfb"
      },
      "source": [
        "#creating a series using a list\n",
        "country = [\"India\", \"Canada\", \"USA\", \"Germany\"]\n",
        "pd.Series(country)\n"
      ],
      "execution_count": null,
      "outputs": [
        {
          "output_type": "execute_result",
          "data": {
            "text/plain": [
              "0      India\n",
              "1     Canada\n",
              "2        USA\n",
              "3    Germany\n",
              "dtype: object"
            ]
          },
          "metadata": {
            "tags": []
          },
          "execution_count": 4
        }
      ]
    },
    {
      "cell_type": "code",
      "metadata": {
        "id": "BB0DyPfwrYBd",
        "colab_type": "code",
        "colab": {
          "base_uri": "https://localhost:8080/",
          "height": 93
        },
        "outputId": "36f700f4-6649-4975-d842-981155c88308"
      },
      "source": [
        "lucky_numbers = [4,7,10]\n",
        "pd.Series(lucky_numbers)"
      ],
      "execution_count": null,
      "outputs": [
        {
          "output_type": "execute_result",
          "data": {
            "text/plain": [
              "0     4\n",
              "1     7\n",
              "2    10\n",
              "dtype: int64"
            ]
          },
          "metadata": {
            "tags": []
          },
          "execution_count": 6
        }
      ]
    },
    {
      "cell_type": "code",
      "metadata": {
        "id": "6fWwOr8Srn53",
        "colab_type": "code",
        "colab": {
          "base_uri": "https://localhost:8080/",
          "height": 93
        },
        "outputId": "44c7f363-34a6-4dae-c677-60b5a77e4f97"
      },
      "source": [
        "#notice the dtype to change from int to float on addition of NaN value\n",
        "lucky_numbers = [4,3,None]\n",
        "pd.Series(lucky_numbers)"
      ],
      "execution_count": null,
      "outputs": [
        {
          "output_type": "execute_result",
          "data": {
            "text/plain": [
              "0    4.0\n",
              "1    3.0\n",
              "2    NaN\n",
              "dtype: float64"
            ]
          },
          "metadata": {
            "tags": []
          },
          "execution_count": 7
        }
      ]
    },
    {
      "cell_type": "code",
      "metadata": {
        "id": "GsYloynSwsdz",
        "colab_type": "code",
        "colab": {
          "base_uri": "https://localhost:8080/",
          "height": 113
        },
        "outputId": "8ea1db1c-cb45-4417-fc8d-e0bc1997928a"
      },
      "source": [
        "country = [\"India\", \"Canada\", \"USA\", None]\n",
        "pd.Series(country)"
      ],
      "execution_count": null,
      "outputs": [
        {
          "output_type": "execute_result",
          "data": {
            "text/plain": [
              "0     India\n",
              "1    Canada\n",
              "2       USA\n",
              "3      None\n",
              "dtype: object"
            ]
          },
          "metadata": {
            "tags": []
          },
          "execution_count": 8
        }
      ]
    },
    {
      "cell_type": "code",
      "metadata": {
        "id": "cK4ulLa5w6Ax",
        "colab_type": "code",
        "colab": {
          "base_uri": "https://localhost:8080/",
          "height": 74
        },
        "outputId": "578582b6-f659-4a27-e6db-4fddc80b6222"
      },
      "source": [
        "#looking at the ambiguity of operations involving NaN\n",
        "import numpy as np\n",
        "print(np.nan == None)\n",
        "print(np.nan == np.nan)\n",
        "print(np.isnan(np.nan))"
      ],
      "execution_count": null,
      "outputs": [
        {
          "output_type": "stream",
          "text": [
            "False\n",
            "False\n",
            "True\n"
          ],
          "name": "stdout"
        }
      ]
    },
    {
      "cell_type": "code",
      "metadata": {
        "id": "eXLG5f7cxLMw",
        "colab_type": "code",
        "colab": {
          "base_uri": "https://localhost:8080/",
          "height": 132
        },
        "outputId": "4af20b95-29bc-45f1-a7d8-5dee762d9820"
      },
      "source": [
        "#making a series using dictionary\n",
        "capitals = {'India' : 'Delhi',\n",
        "            'Canada' : 'Ottawa',\n",
        "            'USA' : 'Washington DC',\n",
        "            'Germany' : 'Berlin',\n",
        "            'South Korea' : 'Seoul'\n",
        "            }\n",
        "cap = pd.Series(capitals)\n",
        "cap"
      ],
      "execution_count": null,
      "outputs": [
        {
          "output_type": "execute_result",
          "data": {
            "text/plain": [
              "India                  Delhi\n",
              "Canada                Ottawa\n",
              "USA            Washington DC\n",
              "Germany               Berlin\n",
              "South Korea            Seoul\n",
              "dtype: object"
            ]
          },
          "metadata": {
            "tags": []
          },
          "execution_count": 10
        }
      ]
    },
    {
      "cell_type": "markdown",
      "metadata": {
        "id": "4rEeg7-Ax4bk",
        "colab_type": "text"
      },
      "source": [
        "**QUERYING**"
      ]
    },
    {
      "cell_type": "code",
      "metadata": {
        "id": "HnglM-1mxz7C",
        "colab_type": "code",
        "colab": {
          "base_uri": "https://localhost:8080/",
          "height": 36
        },
        "outputId": "ef655ce7-9517-4e58-cab5-9e5be53bb9b4"
      },
      "source": [
        "#finding the indeces\n",
        "cap.index"
      ],
      "execution_count": null,
      "outputs": [
        {
          "output_type": "execute_result",
          "data": {
            "text/plain": [
              "Index(['India', 'Canada', 'USA', 'Germany', 'South Korea'], dtype='object')"
            ]
          },
          "metadata": {
            "tags": []
          },
          "execution_count": 11
        }
      ]
    },
    {
      "cell_type": "code",
      "metadata": {
        "id": "TLeda25NyCd6",
        "colab_type": "code",
        "colab": {
          "base_uri": "https://localhost:8080/",
          "height": 74
        },
        "outputId": "2102b37c-f9be-4880-a48e-f8e9e51a10e6"
      },
      "source": [
        "#Another way of making a series using dictionary \n",
        "cap2 = pd.Series(['Baghdad','Ankara'], index = ['Iraq','Turkey'])\n",
        "cap2"
      ],
      "execution_count": null,
      "outputs": [
        {
          "output_type": "execute_result",
          "data": {
            "text/plain": [
              "Iraq      Baghdad\n",
              "Turkey     Ankara\n",
              "dtype: object"
            ]
          },
          "metadata": {
            "tags": []
          },
          "execution_count": 12
        }
      ]
    },
    {
      "cell_type": "code",
      "metadata": {
        "id": "QYVp4RJyyfr2",
        "colab_type": "code",
        "colab": {
          "base_uri": "https://localhost:8080/",
          "height": 93
        },
        "outputId": "f6e36ae1-7a03-4b63-8ccd-316111b9408d"
      },
      "source": [
        "#in case od adding indeces and having no matching value in the series, a Nan value is padded\n",
        "test_series = pd.Series(capitals, index = ['South Korea','Canada','China'])\n",
        "test_series"
      ],
      "execution_count": null,
      "outputs": [
        {
          "output_type": "execute_result",
          "data": {
            "text/plain": [
              "South Korea     Seoul\n",
              "Canada         Ottawa\n",
              "China             NaN\n",
              "dtype: object"
            ]
          },
          "metadata": {
            "tags": []
          },
          "execution_count": 14
        }
      ]
    },
    {
      "cell_type": "code",
      "metadata": {
        "id": "YD2R0_iuy0y5",
        "colab_type": "code",
        "colab": {
          "base_uri": "https://localhost:8080/",
          "height": 132
        },
        "outputId": "1cb6f18a-2f49-4b4a-f106-53cf97980e41"
      },
      "source": [
        "cap"
      ],
      "execution_count": null,
      "outputs": [
        {
          "output_type": "execute_result",
          "data": {
            "text/plain": [
              "India                  Delhi\n",
              "Canada                Ottawa\n",
              "USA            Washington DC\n",
              "Germany               Berlin\n",
              "South Korea            Seoul\n",
              "dtype: object"
            ]
          },
          "metadata": {
            "tags": []
          },
          "execution_count": 15
        }
      ]
    },
    {
      "cell_type": "code",
      "metadata": {
        "id": "gQ1VDuCRy6CS",
        "colab_type": "code",
        "colab": {
          "base_uri": "https://localhost:8080/",
          "height": 74
        },
        "outputId": "f795236c-a961-43f7-ba13-7d8d43500182"
      },
      "source": [
        "cap2"
      ],
      "execution_count": null,
      "outputs": [
        {
          "output_type": "execute_result",
          "data": {
            "text/plain": [
              "Iraq      Baghdad\n",
              "Turkey     Ankara\n",
              "dtype: object"
            ]
          },
          "metadata": {
            "tags": []
          },
          "execution_count": 16
        }
      ]
    },
    {
      "cell_type": "code",
      "metadata": {
        "id": "xDbF5lbqy6-K",
        "colab_type": "code",
        "colab": {
          "base_uri": "https://localhost:8080/",
          "height": 36
        },
        "outputId": "d7b73e69-caca-4e3c-ed11-dd09bcd3f957"
      },
      "source": [
        "#iloc is used to query value using the index\n",
        "# find out the value at the third entry to find the capital of S Korea in the cap series\n",
        "cap.iloc[4]"
      ],
      "execution_count": null,
      "outputs": [
        {
          "output_type": "execute_result",
          "data": {
            "application/vnd.google.colaboratory.intrinsic+json": {
              "type": "string"
            },
            "text/plain": [
              "'Seoul'"
            ]
          },
          "metadata": {
            "tags": []
          },
          "execution_count": 17
        }
      ]
    },
    {
      "cell_type": "code",
      "metadata": {
        "id": "NGh7rGFPzFnG",
        "colab_type": "code",
        "colab": {
          "base_uri": "https://localhost:8080/",
          "height": 36
        },
        "outputId": "c1dd7b28-998c-43c7-e775-fc7be2ad2362"
      },
      "source": [
        "#loc is used to query a value using the index label\n",
        "cap.loc[\"South Korea\"]"
      ],
      "execution_count": null,
      "outputs": [
        {
          "output_type": "execute_result",
          "data": {
            "application/vnd.google.colaboratory.intrinsic+json": {
              "type": "string"
            },
            "text/plain": [
              "'Seoul'"
            ]
          },
          "metadata": {
            "tags": []
          },
          "execution_count": 18
        }
      ]
    },
    {
      "cell_type": "code",
      "metadata": {
        "id": "ERwVMm-YzUfL",
        "colab_type": "code",
        "colab": {
          "base_uri": "https://localhost:8080/",
          "height": 36
        },
        "outputId": "be8fea79-a21d-45b0-ea16-343788299f37"
      },
      "source": [
        "#sometimes when the key is not numeric in nature, pandas decides if the user is trying\n",
        "#to use iloc or loc for query simply using the [] notations\n",
        "cap[4]"
      ],
      "execution_count": null,
      "outputs": [
        {
          "output_type": "execute_result",
          "data": {
            "application/vnd.google.colaboratory.intrinsic+json": {
              "type": "string"
            },
            "text/plain": [
              "'Seoul'"
            ]
          },
          "metadata": {
            "tags": []
          },
          "execution_count": 19
        }
      ]
    },
    {
      "cell_type": "code",
      "metadata": {
        "id": "lpevg9PGzlID",
        "colab_type": "code",
        "colab": {
          "base_uri": "https://localhost:8080/",
          "height": 93
        },
        "outputId": "ea5fd5fb-c40c-4a21-ce48-744484e13283"
      },
      "source": [
        "#but in cases where the index label can be a number, this may give rise to ambiguity\n",
        "example = pd.Series(['First','Second','Third'], index = [1,2,3])\n",
        "print(example)\n"
      ],
      "execution_count": null,
      "outputs": [
        {
          "output_type": "stream",
          "text": [
            "1     First\n",
            "2    Second\n",
            "3     Third\n",
            "dtype: object\n"
          ],
          "name": "stdout"
        }
      ]
    },
    {
      "cell_type": "code",
      "metadata": {
        "id": "SH28WNuFz5gu",
        "colab_type": "code",
        "colab": {
          "base_uri": "https://localhost:8080/",
          "height": 36
        },
        "outputId": "6c87c632-92cd-4c60-fe3b-852f95b36027"
      },
      "source": [
        "#this works well, the loc function is used\n",
        "example[1]"
      ],
      "execution_count": null,
      "outputs": [
        {
          "output_type": "execute_result",
          "data": {
            "application/vnd.google.colaboratory.intrinsic+json": {
              "type": "string"
            },
            "text/plain": [
              "'First'"
            ]
          },
          "metadata": {
            "tags": []
          },
          "execution_count": 21
        }
      ]
    },
    {
      "cell_type": "code",
      "metadata": {
        "id": "zNFYgY_50AYn",
        "colab_type": "code",
        "colab": {
          "base_uri": "https://localhost:8080/",
          "height": 566
        },
        "outputId": "aa53ea33-a63f-4ec0-80f4-f7f53d513d0e"
      },
      "source": [
        "#but say i have to use the iloc with index 0 to retrieve the first value\n",
        "example[0]"
      ],
      "execution_count": null,
      "outputs": [
        {
          "output_type": "error",
          "ename": "KeyError",
          "evalue": "ignored",
          "traceback": [
            "\u001b[0;31m---------------------------------------------------------------------------\u001b[0m",
            "\u001b[0;31mKeyError\u001b[0m                                  Traceback (most recent call last)",
            "\u001b[0;32m<ipython-input-22-bdab1c86b3e6>\u001b[0m in \u001b[0;36m<module>\u001b[0;34m()\u001b[0m\n\u001b[1;32m      1\u001b[0m \u001b[0;31m#but say i have to use the iloc with index 0 to retrieve the first value\u001b[0m\u001b[0;34m\u001b[0m\u001b[0;34m\u001b[0m\u001b[0;34m\u001b[0m\u001b[0m\n\u001b[0;32m----> 2\u001b[0;31m \u001b[0mexample\u001b[0m\u001b[0;34m[\u001b[0m\u001b[0;36m0\u001b[0m\u001b[0;34m]\u001b[0m\u001b[0;34m\u001b[0m\u001b[0;34m\u001b[0m\u001b[0m\n\u001b[0m",
            "\u001b[0;32m/usr/local/lib/python3.6/dist-packages/pandas/core/series.py\u001b[0m in \u001b[0;36m__getitem__\u001b[0;34m(self, key)\u001b[0m\n\u001b[1;32m    869\u001b[0m         \u001b[0mkey\u001b[0m \u001b[0;34m=\u001b[0m \u001b[0mcom\u001b[0m\u001b[0;34m.\u001b[0m\u001b[0mapply_if_callable\u001b[0m\u001b[0;34m(\u001b[0m\u001b[0mkey\u001b[0m\u001b[0;34m,\u001b[0m \u001b[0mself\u001b[0m\u001b[0;34m)\u001b[0m\u001b[0;34m\u001b[0m\u001b[0;34m\u001b[0m\u001b[0m\n\u001b[1;32m    870\u001b[0m         \u001b[0;32mtry\u001b[0m\u001b[0;34m:\u001b[0m\u001b[0;34m\u001b[0m\u001b[0;34m\u001b[0m\u001b[0m\n\u001b[0;32m--> 871\u001b[0;31m             \u001b[0mresult\u001b[0m \u001b[0;34m=\u001b[0m \u001b[0mself\u001b[0m\u001b[0;34m.\u001b[0m\u001b[0mindex\u001b[0m\u001b[0;34m.\u001b[0m\u001b[0mget_value\u001b[0m\u001b[0;34m(\u001b[0m\u001b[0mself\u001b[0m\u001b[0;34m,\u001b[0m \u001b[0mkey\u001b[0m\u001b[0;34m)\u001b[0m\u001b[0;34m\u001b[0m\u001b[0;34m\u001b[0m\u001b[0m\n\u001b[0m\u001b[1;32m    872\u001b[0m \u001b[0;34m\u001b[0m\u001b[0m\n\u001b[1;32m    873\u001b[0m             \u001b[0;32mif\u001b[0m \u001b[0;32mnot\u001b[0m \u001b[0mis_scalar\u001b[0m\u001b[0;34m(\u001b[0m\u001b[0mresult\u001b[0m\u001b[0;34m)\u001b[0m\u001b[0;34m:\u001b[0m\u001b[0;34m\u001b[0m\u001b[0;34m\u001b[0m\u001b[0m\n",
            "\u001b[0;32m/usr/local/lib/python3.6/dist-packages/pandas/core/indexes/base.py\u001b[0m in \u001b[0;36mget_value\u001b[0;34m(self, series, key)\u001b[0m\n\u001b[1;32m   4403\u001b[0m         \u001b[0mk\u001b[0m \u001b[0;34m=\u001b[0m \u001b[0mself\u001b[0m\u001b[0;34m.\u001b[0m\u001b[0m_convert_scalar_indexer\u001b[0m\u001b[0;34m(\u001b[0m\u001b[0mk\u001b[0m\u001b[0;34m,\u001b[0m \u001b[0mkind\u001b[0m\u001b[0;34m=\u001b[0m\u001b[0;34m\"getitem\"\u001b[0m\u001b[0;34m)\u001b[0m\u001b[0;34m\u001b[0m\u001b[0;34m\u001b[0m\u001b[0m\n\u001b[1;32m   4404\u001b[0m         \u001b[0;32mtry\u001b[0m\u001b[0;34m:\u001b[0m\u001b[0;34m\u001b[0m\u001b[0;34m\u001b[0m\u001b[0m\n\u001b[0;32m-> 4405\u001b[0;31m             \u001b[0;32mreturn\u001b[0m \u001b[0mself\u001b[0m\u001b[0;34m.\u001b[0m\u001b[0m_engine\u001b[0m\u001b[0;34m.\u001b[0m\u001b[0mget_value\u001b[0m\u001b[0;34m(\u001b[0m\u001b[0ms\u001b[0m\u001b[0;34m,\u001b[0m \u001b[0mk\u001b[0m\u001b[0;34m,\u001b[0m \u001b[0mtz\u001b[0m\u001b[0;34m=\u001b[0m\u001b[0mgetattr\u001b[0m\u001b[0;34m(\u001b[0m\u001b[0mseries\u001b[0m\u001b[0;34m.\u001b[0m\u001b[0mdtype\u001b[0m\u001b[0;34m,\u001b[0m \u001b[0;34m\"tz\"\u001b[0m\u001b[0;34m,\u001b[0m \u001b[0;32mNone\u001b[0m\u001b[0;34m)\u001b[0m\u001b[0;34m)\u001b[0m\u001b[0;34m\u001b[0m\u001b[0;34m\u001b[0m\u001b[0m\n\u001b[0m\u001b[1;32m   4406\u001b[0m         \u001b[0;32mexcept\u001b[0m \u001b[0mKeyError\u001b[0m \u001b[0;32mas\u001b[0m \u001b[0me1\u001b[0m\u001b[0;34m:\u001b[0m\u001b[0;34m\u001b[0m\u001b[0;34m\u001b[0m\u001b[0m\n\u001b[1;32m   4407\u001b[0m             \u001b[0;32mif\u001b[0m \u001b[0mlen\u001b[0m\u001b[0;34m(\u001b[0m\u001b[0mself\u001b[0m\u001b[0;34m)\u001b[0m \u001b[0;34m>\u001b[0m \u001b[0;36m0\u001b[0m \u001b[0;32mand\u001b[0m \u001b[0;34m(\u001b[0m\u001b[0mself\u001b[0m\u001b[0;34m.\u001b[0m\u001b[0mholds_integer\u001b[0m\u001b[0;34m(\u001b[0m\u001b[0;34m)\u001b[0m \u001b[0;32mor\u001b[0m \u001b[0mself\u001b[0m\u001b[0;34m.\u001b[0m\u001b[0mis_boolean\u001b[0m\u001b[0;34m(\u001b[0m\u001b[0;34m)\u001b[0m\u001b[0;34m)\u001b[0m\u001b[0;34m:\u001b[0m\u001b[0;34m\u001b[0m\u001b[0;34m\u001b[0m\u001b[0m\n",
            "\u001b[0;32mpandas/_libs/index.pyx\u001b[0m in \u001b[0;36mpandas._libs.index.IndexEngine.get_value\u001b[0;34m()\u001b[0m\n",
            "\u001b[0;32mpandas/_libs/index.pyx\u001b[0m in \u001b[0;36mpandas._libs.index.IndexEngine.get_value\u001b[0;34m()\u001b[0m\n",
            "\u001b[0;32mpandas/_libs/index.pyx\u001b[0m in \u001b[0;36mpandas._libs.index.IndexEngine.get_loc\u001b[0;34m()\u001b[0m\n",
            "\u001b[0;32mpandas/_libs/hashtable_class_helper.pxi\u001b[0m in \u001b[0;36mpandas._libs.hashtable.Int64HashTable.get_item\u001b[0;34m()\u001b[0m\n",
            "\u001b[0;32mpandas/_libs/hashtable_class_helper.pxi\u001b[0m in \u001b[0;36mpandas._libs.hashtable.Int64HashTable.get_item\u001b[0;34m()\u001b[0m\n",
            "\u001b[0;31mKeyError\u001b[0m: 0"
          ]
        }
      ]
    },
    {
      "cell_type": "code",
      "metadata": {
        "id": "M9JRnykf0Jm5",
        "colab_type": "code",
        "colab": {
          "base_uri": "https://localhost:8080/",
          "height": 36
        },
        "outputId": "ca253881-5126-4f68-aa6e-05bf527c8321"
      },
      "source": [
        "#therefore it is good to specify the loc or iloc function being used\n",
        "example.iloc[0]"
      ],
      "execution_count": null,
      "outputs": [
        {
          "output_type": "execute_result",
          "data": {
            "application/vnd.google.colaboratory.intrinsic+json": {
              "type": "string"
            },
            "text/plain": [
              "'First'"
            ]
          },
          "metadata": {
            "tags": []
          },
          "execution_count": 23
        }
      ]
    },
    {
      "cell_type": "code",
      "metadata": {
        "id": "g_-m4CA10Rl-",
        "colab_type": "code",
        "colab": {
          "base_uri": "https://localhost:8080/",
          "height": 36
        },
        "outputId": "c77ed864-118f-48d7-9d31-324914877a67"
      },
      "source": [
        "example.loc[1]"
      ],
      "execution_count": null,
      "outputs": [
        {
          "output_type": "execute_result",
          "data": {
            "application/vnd.google.colaboratory.intrinsic+json": {
              "type": "string"
            },
            "text/plain": [
              "'First'"
            ]
          },
          "metadata": {
            "tags": []
          },
          "execution_count": 24
        }
      ]
    },
    {
      "cell_type": "markdown",
      "metadata": {
        "id": "c_yHDzHu0lJt",
        "colab_type": "text"
      },
      "source": [
        "**BROADCASTING FUNCTIONS AND USING MAGIC FUNCTION TIMEIT TO PROVE IT'S SIGNIFICANCE.**"
      ]
    },
    {
      "cell_type": "markdown",
      "metadata": {
        "id": "ec-mFITPKnDu",
        "colab_type": "text"
      },
      "source": [
        "Magic function in python begin with a % sign. If it is a cellular magic function- running in a particular cell at once, it is prefixed with %%.\n",
        "The timeit function runs the particular cell through defined loops and find the average time to solve it.\n",
        "\n",
        "In cases of heavy computation, for loops can be costlier than broadcasting functions.\n",
        "\n",
        "Broadcasting functions treat the list or series as a vector and by using the main name of the series, we can effect all the elements inside it."
      ]
    },
    {
      "cell_type": "code",
      "metadata": {
        "id": "yVBdinyo0Tp4",
        "colab_type": "code",
        "colab": {
          "base_uri": "https://localhost:8080/",
          "height": 132
        },
        "outputId": "a8bacc09-3165-4a96-b1e3-fca2e9f6df78"
      },
      "source": [
        "nums = pd.Series(np.random.randint(0,1000,10000))\n",
        "nums.head()"
      ],
      "execution_count": 33,
      "outputs": [
        {
          "output_type": "execute_result",
          "data": {
            "text/plain": [
              "0    541\n",
              "1    964\n",
              "2    933\n",
              "3    381\n",
              "4    288\n",
              "dtype: int64"
            ]
          },
          "metadata": {
            "tags": []
          },
          "execution_count": 33
        }
      ]
    },
    {
      "cell_type": "code",
      "metadata": {
        "id": "rGdCDzgHJMSz",
        "colab_type": "code",
        "colab": {
          "base_uri": "https://localhost:8080/",
          "height": 36
        },
        "outputId": "c2f801dc-6338-4c75-fde1-5dc61d54fd11"
      },
      "source": [
        "len(nums)"
      ],
      "execution_count": 34,
      "outputs": [
        {
          "output_type": "execute_result",
          "data": {
            "text/plain": [
              "10000"
            ]
          },
          "metadata": {
            "tags": []
          },
          "execution_count": 34
        }
      ]
    },
    {
      "cell_type": "code",
      "metadata": {
        "id": "hkmTYebwJOXy",
        "colab_type": "code",
        "colab": {
          "base_uri": "https://localhost:8080/",
          "height": 36
        },
        "outputId": "3ebf489e-d4d1-417e-bf6f-b5a29163d9d3"
      },
      "source": [
        "#calling the timeit magic function and running the loop through 10 test cases to find out the speed\n",
        "%%timeit -n 100\n",
        "#calculating the sum using a for loop\n",
        "sum = 0\n",
        "for num in nums:\n",
        "  sum += num"
      ],
      "execution_count": 35,
      "outputs": [
        {
          "output_type": "stream",
          "text": [
            "100 loops, best of 3: 1.52 ms per loop\n"
          ],
          "name": "stdout"
        }
      ]
    },
    {
      "cell_type": "code",
      "metadata": {
        "id": "X7c9uVF0KFPI",
        "colab_type": "code",
        "colab": {
          "base_uri": "https://localhost:8080/",
          "height": 36
        },
        "outputId": "a0d24594-208b-4b9d-966c-60dca02b295e"
      },
      "source": [
        "#calling the timeit magic function and running the loop through 10 test cases to find out the speed\n",
        "%%timeit -n 100\n",
        "#calculating the sum using broadcasting\n",
        "sum = np.sum(nums)"
      ],
      "execution_count": 36,
      "outputs": [
        {
          "output_type": "stream",
          "text": [
            "100 loops, best of 3: 142 µs per loop\n"
          ],
          "name": "stdout"
        }
      ]
    },
    {
      "cell_type": "code",
      "metadata": {
        "id": "yJIe30VWKMdB",
        "colab_type": "code",
        "colab": {
          "base_uri": "https://localhost:8080/",
          "height": 285
        },
        "outputId": "eea93c02-d525-4350-a505-fdbf00bf5bcc"
      },
      "source": [
        "#increment each number in the list by ten\n",
        "num = pd.Series([10,20,30,40,50,60])\n",
        "print(num)\n",
        "num += 10\n",
        "print(num)"
      ],
      "execution_count": 38,
      "outputs": [
        {
          "output_type": "stream",
          "text": [
            "0    10\n",
            "1    20\n",
            "2    30\n",
            "3    40\n",
            "4    50\n",
            "5    60\n",
            "dtype: int64\n",
            "0    20\n",
            "1    30\n",
            "2    40\n",
            "3    50\n",
            "4    60\n",
            "5    70\n",
            "dtype: int64\n"
          ],
          "name": "stdout"
        }
      ]
    },
    {
      "cell_type": "markdown",
      "metadata": {
        "id": "e8UBwT2EL76f",
        "colab_type": "text"
      },
      "source": [
        "**BONUS**"
      ]
    },
    {
      "cell_type": "code",
      "metadata": {
        "id": "axDEiDHdLhQX",
        "colab_type": "code",
        "colab": {
          "base_uri": "https://localhost:8080/",
          "height": 132
        },
        "outputId": "b2a83784-212c-460e-abb4-6b1fbfba8f32"
      },
      "source": [
        "#the loc position also helps us add values to the series in case the label does not exist\n",
        "cap"
      ],
      "execution_count": 39,
      "outputs": [
        {
          "output_type": "execute_result",
          "data": {
            "text/plain": [
              "India                  Delhi\n",
              "Canada                Ottawa\n",
              "USA            Washington DC\n",
              "Germany               Berlin\n",
              "South Korea            Seoul\n",
              "dtype: object"
            ]
          },
          "metadata": {
            "tags": []
          },
          "execution_count": 39
        }
      ]
    },
    {
      "cell_type": "code",
      "metadata": {
        "id": "KH17n2lUMDg1",
        "colab_type": "code",
        "colab": {}
      },
      "source": [
        "cap[\"New Zealand\"] = \"Wellington\""
      ],
      "execution_count": 41,
      "outputs": []
    },
    {
      "cell_type": "code",
      "metadata": {
        "id": "vHcWhVAiMCtM",
        "colab_type": "code",
        "colab": {
          "base_uri": "https://localhost:8080/",
          "height": 151
        },
        "outputId": "ce1331a6-05d5-490e-d158-db68902ef9b4"
      },
      "source": [
        "cap"
      ],
      "execution_count": 42,
      "outputs": [
        {
          "output_type": "execute_result",
          "data": {
            "text/plain": [
              "India                  Delhi\n",
              "Canada                Ottawa\n",
              "USA            Washington DC\n",
              "Germany               Berlin\n",
              "South Korea            Seoul\n",
              "New Zealand       Wellington\n",
              "dtype: object"
            ]
          },
          "metadata": {
            "tags": []
          },
          "execution_count": 42
        }
      ]
    },
    {
      "cell_type": "code",
      "metadata": {
        "id": "op-D1DclMNj3",
        "colab_type": "code",
        "colab": {
          "base_uri": "https://localhost:8080/",
          "height": 208
        },
        "outputId": "e3886592-ff38-4d42-8b9e-d60f7ea44ad7"
      },
      "source": [
        "#appending two series\n",
        "print(cap)\n",
        "print(cap2)\n"
      ],
      "execution_count": 45,
      "outputs": [
        {
          "output_type": "stream",
          "text": [
            "India                  Delhi\n",
            "Canada                Ottawa\n",
            "USA            Washington DC\n",
            "Germany               Berlin\n",
            "South Korea            Seoul\n",
            "New Zealand       Wellington\n",
            "dtype: object\n",
            "Iraq      Baghdad\n",
            "Turkey     Ankara\n",
            "dtype: object\n"
          ],
          "name": "stdout"
        }
      ]
    },
    {
      "cell_type": "code",
      "metadata": {
        "id": "L1PW975qMVQg",
        "colab_type": "code",
        "colab": {
          "base_uri": "https://localhost:8080/",
          "height": 189
        },
        "outputId": "b471abcf-348d-4c98-f569-828bb15454bf"
      },
      "source": [
        "print(cap.append(cap2))"
      ],
      "execution_count": 46,
      "outputs": [
        {
          "output_type": "stream",
          "text": [
            "India                  Delhi\n",
            "Canada                Ottawa\n",
            "USA            Washington DC\n",
            "Germany               Berlin\n",
            "South Korea            Seoul\n",
            "New Zealand       Wellington\n",
            "Iraq                 Baghdad\n",
            "Turkey                Ankara\n",
            "dtype: object\n"
          ],
          "name": "stdout"
        }
      ]
    },
    {
      "cell_type": "code",
      "metadata": {
        "id": "wSQJwET8MZ44",
        "colab_type": "code",
        "colab": {
          "base_uri": "https://localhost:8080/",
          "height": 208
        },
        "outputId": "404a83c4-0544-4774-d840-18fb37dba2a5"
      },
      "source": [
        "#checking if appending affects the original series (hint: no it does not)\n",
        "print(cap)\n",
        "print(cap2)\n"
      ],
      "execution_count": 47,
      "outputs": [
        {
          "output_type": "stream",
          "text": [
            "India                  Delhi\n",
            "Canada                Ottawa\n",
            "USA            Washington DC\n",
            "Germany               Berlin\n",
            "South Korea            Seoul\n",
            "New Zealand       Wellington\n",
            "dtype: object\n",
            "Iraq      Baghdad\n",
            "Turkey     Ankara\n",
            "dtype: object\n"
          ],
          "name": "stdout"
        }
      ]
    },
    {
      "cell_type": "code",
      "metadata": {
        "id": "XGrFIAeDMec1",
        "colab_type": "code",
        "colab": {}
      },
      "source": [
        "#therefore make a copy\n",
        "copy = cap.append(cap2)"
      ],
      "execution_count": 49,
      "outputs": []
    },
    {
      "cell_type": "code",
      "metadata": {
        "id": "s-Omr4jSMm7L",
        "colab_type": "code",
        "colab": {
          "base_uri": "https://localhost:8080/",
          "height": 189
        },
        "outputId": "57c7ef02-2e21-4050-eedb-5b21f78b0503"
      },
      "source": [
        "print(copy)"
      ],
      "execution_count": 50,
      "outputs": [
        {
          "output_type": "stream",
          "text": [
            "India                  Delhi\n",
            "Canada                Ottawa\n",
            "USA            Washington DC\n",
            "Germany               Berlin\n",
            "South Korea            Seoul\n",
            "New Zealand       Wellington\n",
            "Iraq                 Baghdad\n",
            "Turkey                Ankara\n",
            "dtype: object\n"
          ],
          "name": "stdout"
        }
      ]
    }
  ]
}