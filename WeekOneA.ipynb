{
  "nbformat": 4,
  "nbformat_minor": 0,
  "metadata": {
    "colab": {
      "name": "WeekOneA.ipynb",
      "provenance": [],
      "authorship_tag": "ABX9TyOo1/LiroH1KdU/lBkr/FdC",
      "include_colab_link": true
    },
    "kernelspec": {
      "name": "python3",
      "display_name": "Python 3"
    }
  },
  "cells": [
    {
      "cell_type": "markdown",
      "metadata": {
        "id": "view-in-github",
        "colab_type": "text"
      },
      "source": [
        "<a href=\"https://colab.research.google.com/github/almasfiza/Data-Science/blob/master/WeekOneA.ipynb\" target=\"_parent\"><img src=\"https://colab.research.google.com/assets/colab-badge.svg\" alt=\"Open In Colab\"/></a>"
      ]
    },
    {
      "cell_type": "markdown",
      "metadata": {
        "id": "J55bPjOzI_XN",
        "colab_type": "text"
      },
      "source": [
        "**Week One - Data Science Course on Coursera**\n",
        "\n",
        "Things covered \n",
        "A : Basics of Python\n",
        "B : Introduction to Numpy\n",
        "\n",
        "\n",
        "In this notebook, we go through the important concepts of python- using lists, lambda, strings, objects and mapping.\n"
      ]
    },
    {
      "cell_type": "markdown",
      "metadata": {
        "id": "XVRkDM2FJj6N",
        "colab_type": "text"
      },
      "source": [
        "**FUNCTIONS**"
      ]
    },
    {
      "cell_type": "code",
      "metadata": {
        "id": "sjJx_SF3JCxK",
        "colab_type": "code",
        "colab": {
          "base_uri": "https://localhost:8080/",
          "height": 55
        },
        "outputId": "a69dbb26-441b-4ab7-c6cb-c3153511ba96"
      },
      "source": [
        "#adding two numbers\n",
        "def add(x, y):\n",
        "  return x + y\n",
        "\n",
        "#call directly and print\n",
        "print(add(2,4))\n",
        "#store it in a variable and print\n",
        "res = add(4,3)\n",
        "print(res)"
      ],
      "execution_count": 2,
      "outputs": [
        {
          "output_type": "stream",
          "text": [
            "6\n",
            "7\n"
          ],
          "name": "stdout"
        }
      ]
    },
    {
      "cell_type": "markdown",
      "metadata": {
        "id": "6LC0ET4qKFCO",
        "colab_type": "text"
      },
      "source": [
        "**TYPES AND SEQUENCES**"
      ]
    },
    {
      "cell_type": "markdown",
      "metadata": {
        "id": "RrZvjdeSKtxD",
        "colab_type": "text"
      },
      "source": [
        "Since Python is a dynamicall programmed language, you do not need \n",
        "to specify the data type of the variables you are using. However,\n",
        "this can become ambiguous sometimes and the type function helps you figure \n",
        "out the data you are working with "
      ]
    },
    {
      "cell_type": "code",
      "metadata": {
        "id": "dE348x2JKuWH",
        "colab_type": "code",
        "colab": {
          "base_uri": "https://localhost:8080/",
          "height": 36
        },
        "outputId": "1bd4d4ad-ecba-4675-940e-2fa9256a4687"
      },
      "source": [
        "type(\"hello\")"
      ],
      "execution_count": 3,
      "outputs": [
        {
          "output_type": "execute_result",
          "data": {
            "text/plain": [
              "str"
            ]
          },
          "metadata": {
            "tags": []
          },
          "execution_count": 3
        }
      ]
    },
    {
      "cell_type": "code",
      "metadata": {
        "id": "p_tbpq9KKwQp",
        "colab_type": "code",
        "colab": {
          "base_uri": "https://localhost:8080/",
          "height": 36
        },
        "outputId": "f7a1b36c-b2ec-4c0b-bcef-09f3e97a86fd"
      },
      "source": [
        "type('hello')"
      ],
      "execution_count": 4,
      "outputs": [
        {
          "output_type": "execute_result",
          "data": {
            "text/plain": [
              "str"
            ]
          },
          "metadata": {
            "tags": []
          },
          "execution_count": 4
        }
      ]
    },
    {
      "cell_type": "code",
      "metadata": {
        "id": "vTZU-keoKxYi",
        "colab_type": "code",
        "colab": {
          "base_uri": "https://localhost:8080/",
          "height": 36
        },
        "outputId": "d4446832-65f1-4ceb-98df-39236e8f8007"
      },
      "source": [
        "type(2)"
      ],
      "execution_count": 5,
      "outputs": [
        {
          "output_type": "execute_result",
          "data": {
            "text/plain": [
              "int"
            ]
          },
          "metadata": {
            "tags": []
          },
          "execution_count": 5
        }
      ]
    },
    {
      "cell_type": "code",
      "metadata": {
        "id": "fNvfVdQJKyY1",
        "colab_type": "code",
        "colab": {
          "base_uri": "https://localhost:8080/",
          "height": 36
        },
        "outputId": "3dca0cd5-793e-4515-dd9a-35656e5a8f50"
      },
      "source": [
        "type(3.4)"
      ],
      "execution_count": 6,
      "outputs": [
        {
          "output_type": "execute_result",
          "data": {
            "text/plain": [
              "float"
            ]
          },
          "metadata": {
            "tags": []
          },
          "execution_count": 6
        }
      ]
    },
    {
      "cell_type": "code",
      "metadata": {
        "id": "c3k3s_Z1Kz7b",
        "colab_type": "code",
        "colab": {
          "base_uri": "https://localhost:8080/",
          "height": 36
        },
        "outputId": "90e4c720-06e2-4ca6-e950-77f5c27c5477"
      },
      "source": [
        "type(add)"
      ],
      "execution_count": 7,
      "outputs": [
        {
          "output_type": "execute_result",
          "data": {
            "text/plain": [
              "function"
            ]
          },
          "metadata": {
            "tags": []
          },
          "execution_count": 7
        }
      ]
    },
    {
      "cell_type": "code",
      "metadata": {
        "id": "bPtsGtzYK1iM",
        "colab_type": "code",
        "colab": {
          "base_uri": "https://localhost:8080/",
          "height": 36
        },
        "outputId": "b4272cac-ab72-4d38-8e71-0eb39e18c572"
      },
      "source": [
        " res = lambda x : x+1\n",
        " res(5)"
      ],
      "execution_count": 12,
      "outputs": [
        {
          "output_type": "execute_result",
          "data": {
            "text/plain": [
              "6"
            ]
          },
          "metadata": {
            "tags": []
          },
          "execution_count": 12
        }
      ]
    },
    {
      "cell_type": "code",
      "metadata": {
        "id": "ErwoHRsFK9k8",
        "colab_type": "code",
        "colab": {
          "base_uri": "https://localhost:8080/",
          "height": 36
        },
        "outputId": "a735f194-0c26-48c8-db9b-117fc7d85c7e"
      },
      "source": [
        "#note that the type of lambda is a function\n",
        "type(res)"
      ],
      "execution_count": 14,
      "outputs": [
        {
          "output_type": "execute_result",
          "data": {
            "text/plain": [
              "function"
            ]
          },
          "metadata": {
            "tags": []
          },
          "execution_count": 14
        }
      ]
    },
    {
      "cell_type": "code",
      "metadata": {
        "id": "AP1Rlq2nLO8h",
        "colab_type": "code",
        "colab": {
          "base_uri": "https://localhost:8080/",
          "height": 36
        },
        "outputId": "65b7a674-584b-4f86-d44f-7c1f6a77080b"
      },
      "source": [
        "#Tuples are immutable\n",
        "t1 = ('a','2',100)\n",
        "type(t1)"
      ],
      "execution_count": 15,
      "outputs": [
        {
          "output_type": "execute_result",
          "data": {
            "text/plain": [
              "tuple"
            ]
          },
          "metadata": {
            "tags": []
          },
          "execution_count": 15
        }
      ]
    },
    {
      "cell_type": "code",
      "metadata": {
        "id": "_mKRmhC1Ld6R",
        "colab_type": "code",
        "colab": {
          "base_uri": "https://localhost:8080/",
          "height": 36
        },
        "outputId": "0396a0c9-f6ad-4744-c646-99eb6df7a6fc"
      },
      "source": [
        "#Lists are mutable\n",
        "l1 = ['1',\"hello\",100]\n",
        "type(l1)"
      ],
      "execution_count": 20,
      "outputs": [
        {
          "output_type": "execute_result",
          "data": {
            "text/plain": [
              "list"
            ]
          },
          "metadata": {
            "tags": []
          },
          "execution_count": 20
        }
      ]
    },
    {
      "cell_type": "code",
      "metadata": {
        "id": "fXQ6qQf5LlMw",
        "colab_type": "code",
        "colab": {
          "base_uri": "https://localhost:8080/",
          "height": 36
        },
        "outputId": "e9ea6c81-3e8e-415d-8900-67fe0a276aae"
      },
      "source": [
        "#to append to a list\n",
        "l1.append('world')\n",
        "print(l1)"
      ],
      "execution_count": 21,
      "outputs": [
        {
          "output_type": "stream",
          "text": [
            "['1', 'hello', 100, 'world']\n"
          ],
          "name": "stdout"
        }
      ]
    },
    {
      "cell_type": "code",
      "metadata": {
        "id": "phIXLzgLLqGq",
        "colab_type": "code",
        "colab": {
          "base_uri": "https://localhost:8080/",
          "height": 93
        },
        "outputId": "d7980f3c-995d-4878-e1bf-57a75029d394"
      },
      "source": [
        "#iterating through the list using for loop\n",
        "for item in l1:\n",
        "  print(item)"
      ],
      "execution_count": 22,
      "outputs": [
        {
          "output_type": "stream",
          "text": [
            "1\n",
            "hello\n",
            "100\n",
            "world\n"
          ],
          "name": "stdout"
        }
      ]
    },
    {
      "cell_type": "code",
      "metadata": {
        "id": "1NXLhcsZLrla",
        "colab_type": "code",
        "colab": {
          "base_uri": "https://localhost:8080/",
          "height": 93
        },
        "outputId": "a2032d94-f6e0-48d1-9f6f-3b7045803b7a"
      },
      "source": [
        "#iterating through list using an index operator\n",
        "i = 0\n",
        "while( i != len(l1) ):\n",
        "  print(l1[i])\n",
        "  i+=1"
      ],
      "execution_count": 23,
      "outputs": [
        {
          "output_type": "stream",
          "text": [
            "1\n",
            "hello\n",
            "100\n",
            "world\n"
          ],
          "name": "stdout"
        }
      ]
    },
    {
      "cell_type": "code",
      "metadata": {
        "id": "x1HkPKImMGLF",
        "colab_type": "code",
        "colab": {
          "base_uri": "https://localhost:8080/",
          "height": 36
        },
        "outputId": "b648da8e-5a3e-4eaf-c53c-0d344605290e"
      },
      "source": [
        "#to concatenate lists\n",
        "l2 = [\"another\", 99, \"list \"]\n",
        "l1 + l2"
      ],
      "execution_count": 24,
      "outputs": [
        {
          "output_type": "execute_result",
          "data": {
            "text/plain": [
              "['1', 'hello', 100, 'world', 'another', 99, 'list ']"
            ]
          },
          "metadata": {
            "tags": []
          },
          "execution_count": 24
        }
      ]
    },
    {
      "cell_type": "code",
      "metadata": {
        "id": "orudMdvxMO-2",
        "colab_type": "code",
        "colab": {
          "base_uri": "https://localhost:8080/",
          "height": 36
        },
        "outputId": "7e3682cd-f0f3-43d8-cacb-b3e5411e6fb9"
      },
      "source": [
        "#to repeat lists\n",
        "[2]*5"
      ],
      "execution_count": 26,
      "outputs": [
        {
          "output_type": "execute_result",
          "data": {
            "text/plain": [
              "[2, 2, 2, 2, 2]"
            ]
          },
          "metadata": {
            "tags": []
          },
          "execution_count": 26
        }
      ]
    },
    {
      "cell_type": "code",
      "metadata": {
        "id": "hNujYO_oMUzi",
        "colab_type": "code",
        "colab": {
          "base_uri": "https://localhost:8080/",
          "height": 36
        },
        "outputId": "c2250894-a1fb-4a82-83e2-b574f6a22434"
      },
      "source": [
        "#check if the item is in the list\n",
        "'hello' in l1"
      ],
      "execution_count": 27,
      "outputs": [
        {
          "output_type": "execute_result",
          "data": {
            "text/plain": [
              "True"
            ]
          },
          "metadata": {
            "tags": []
          },
          "execution_count": 27
        }
      ]
    },
    {
      "cell_type": "code",
      "metadata": {
        "id": "SJPnzsr6Mda7",
        "colab_type": "code",
        "colab": {
          "base_uri": "https://localhost:8080/",
          "height": 36
        },
        "outputId": "3e20c8ff-533b-479d-97aa-a9a0cc6b0fe7"
      },
      "source": [
        "'helloworld' in l1"
      ],
      "execution_count": 29,
      "outputs": [
        {
          "output_type": "execute_result",
          "data": {
            "text/plain": [
              "False"
            ]
          },
          "metadata": {
            "tags": []
          },
          "execution_count": 29
        }
      ]
    },
    {
      "cell_type": "code",
      "metadata": {
        "id": "nC85rYWjMfYR",
        "colab_type": "code",
        "colab": {
          "base_uri": "https://localhost:8080/",
          "height": 36
        },
        "outputId": "494da98e-6a0d-4cb0-efa9-091c975b3614"
      },
      "source": [
        "#Let us work with strings now\n",
        "s = \"This is a string, obviously.\"\n",
        "len(s)"
      ],
      "execution_count": 30,
      "outputs": [
        {
          "output_type": "execute_result",
          "data": {
            "text/plain": [
              "28"
            ]
          },
          "metadata": {
            "tags": []
          },
          "execution_count": 30
        }
      ]
    },
    {
      "cell_type": "code",
      "metadata": {
        "id": "oaxEv-ZPMts-",
        "colab_type": "code",
        "colab": {
          "base_uri": "https://localhost:8080/",
          "height": 55
        },
        "outputId": "3bd3913d-3aa0-4901-f8da-7eb0fc370ebb"
      },
      "source": [
        "#first character of the string\n",
        "print(s[0])\n",
        "#first index of i\n",
        "print(s.index('i'))"
      ],
      "execution_count": 31,
      "outputs": [
        {
          "output_type": "stream",
          "text": [
            "T\n",
            "2\n"
          ],
          "name": "stdout"
        }
      ]
    },
    {
      "cell_type": "code",
      "metadata": {
        "id": "lMIQqHB0M7hz",
        "colab_type": "code",
        "colab": {
          "base_uri": "https://localhost:8080/",
          "height": 93
        },
        "outputId": "512b1a33-1d30-45d7-dcc1-39a86da180d4"
      },
      "source": [
        "#slicing the string to get a substring\n",
        "# the first three characters of the string at index 0 , 1 and 2\n",
        "print(s[0:3])\n",
        "#The first three characters of the string\n",
        "print(s[:3])\n",
        "#The last three characters of the string -1,-2,-3\n",
        "print(s[-3:])\n",
        "#The last three characters of the string\n",
        "print(s[len(s)-3:])"
      ],
      "execution_count": 36,
      "outputs": [
        {
          "output_type": "stream",
          "text": [
            "Thi\n",
            "Thi\n",
            "ly.\n",
            "ly.\n"
          ],
          "name": "stdout"
        }
      ]
    },
    {
      "cell_type": "code",
      "metadata": {
        "id": "tKU4C-61NK4D",
        "colab_type": "code",
        "colab": {
          "base_uri": "https://localhost:8080/",
          "height": 55
        },
        "outputId": "d9b01ec0-d982-4193-bb02-ba6fa15122f7"
      },
      "source": [
        "firstname = \"Margaret\"\n",
        "lastname = \"Hamilton\"\n",
        "print( 'Mar' in firstname )\n",
        "print( firstname + \" \" + lastname ) "
      ],
      "execution_count": 37,
      "outputs": [
        {
          "output_type": "stream",
          "text": [
            "True\n",
            "Margaret Hamilton\n"
          ],
          "name": "stdout"
        }
      ]
    },
    {
      "cell_type": "code",
      "metadata": {
        "id": "oq1Do4cIN-9u",
        "colab_type": "code",
        "colab": {
          "base_uri": "https://localhost:8080/",
          "height": 55
        },
        "outputId": "9ec3b673-5658-457b-8068-2d460e5ea71a"
      },
      "source": [
        "#split function in the string- converts the string words to list elements\n",
        "sentence = \"I am learning Python for Data Science.\"\n",
        "language = sentence.split(' ')[3]\n",
        "domain = sentence.split(' ')[5] + \" \" + sentence.split(' ')[6]\n",
        "print(language)\n",
        "print(domain)"
      ],
      "execution_count": 39,
      "outputs": [
        {
          "output_type": "stream",
          "text": [
            "Python\n",
            "Data Science.\n"
          ],
          "name": "stdout"
        }
      ]
    },
    {
      "cell_type": "code",
      "metadata": {
        "id": "rSNBIn9dOeif",
        "colab_type": "code",
        "colab": {
          "base_uri": "https://localhost:8080/",
          "height": 236
        },
        "outputId": "af555a79-f62e-45c2-82e7-346f6e484fd6"
      },
      "source": [
        "#going to give an error due to incompatible data types string and int\n",
        "'Python ' + 3\n"
      ],
      "execution_count": 40,
      "outputs": [
        {
          "output_type": "error",
          "ename": "TypeError",
          "evalue": "ignored",
          "traceback": [
            "\u001b[0;31m---------------------------------------------------------------------------\u001b[0m",
            "\u001b[0;31mTypeError\u001b[0m                                 Traceback (most recent call last)",
            "\u001b[0;32m<ipython-input-40-ff2716938d40>\u001b[0m in \u001b[0;36m<module>\u001b[0;34m()\u001b[0m\n\u001b[1;32m      1\u001b[0m \u001b[0;31m#going to give an error due to incompatible data types string and int\u001b[0m\u001b[0;34m\u001b[0m\u001b[0;34m\u001b[0m\u001b[0;34m\u001b[0m\u001b[0m\n\u001b[0;32m----> 2\u001b[0;31m \u001b[0;34m'Python '\u001b[0m \u001b[0;34m+\u001b[0m \u001b[0;36m3\u001b[0m\u001b[0;34m\u001b[0m\u001b[0;34m\u001b[0m\u001b[0m\n\u001b[0m\u001b[1;32m      3\u001b[0m \u001b[0;31m#conver it\u001b[0m\u001b[0;34m\u001b[0m\u001b[0;34m\u001b[0m\u001b[0;34m\u001b[0m\u001b[0m\n\u001b[1;32m      4\u001b[0m \u001b[0;34m'Python '\u001b[0m \u001b[0;34m+\u001b[0m \u001b[0mstr\u001b[0m\u001b[0;34m(\u001b[0m\u001b[0;36m3\u001b[0m\u001b[0;34m)\u001b[0m\u001b[0;34m\u001b[0m\u001b[0;34m\u001b[0m\u001b[0m\n",
            "\u001b[0;31mTypeError\u001b[0m: must be str, not int"
          ]
        }
      ]
    },
    {
      "cell_type": "code",
      "metadata": {
        "id": "FAE9kQGsO3Qu",
        "colab_type": "code",
        "colab": {
          "base_uri": "https://localhost:8080/",
          "height": 36
        },
        "outputId": "395394f5-3065-4bb8-e3f2-c95e2184660f"
      },
      "source": [
        "#convert it\n",
        "'Python ' + str(3)"
      ],
      "execution_count": 42,
      "outputs": [
        {
          "output_type": "execute_result",
          "data": {
            "application/vnd.google.colaboratory.intrinsic+json": {
              "type": "string"
            },
            "text/plain": [
              "'Python 3'"
            ]
          },
          "metadata": {
            "tags": []
          },
          "execution_count": 42
        }
      ]
    },
    {
      "cell_type": "code",
      "metadata": {
        "id": "H6Ox--8TO43X",
        "colab_type": "code",
        "colab": {
          "base_uri": "https://localhost:8080/",
          "height": 36
        },
        "outputId": "23e24ba7-2987-4b48-dafb-66545ce16579"
      },
      "source": [
        "#finding the ascii of the character\n",
        "ord('a')"
      ],
      "execution_count": 43,
      "outputs": [
        {
          "output_type": "execute_result",
          "data": {
            "text/plain": [
              "97"
            ]
          },
          "metadata": {
            "tags": []
          },
          "execution_count": 43
        }
      ]
    },
    {
      "cell_type": "code",
      "metadata": {
        "id": "HWb1N36OO92w",
        "colab_type": "code",
        "colab": {
          "base_uri": "https://localhost:8080/",
          "height": 36
        },
        "outputId": "3a21b1aa-ad46-49f9-a1c7-9283308077cc"
      },
      "source": [
        "#converting ascii to the character\n",
        "chr(97)"
      ],
      "execution_count": 45,
      "outputs": [
        {
          "output_type": "execute_result",
          "data": {
            "application/vnd.google.colaboratory.intrinsic+json": {
              "type": "string"
            },
            "text/plain": [
              "'a'"
            ]
          },
          "metadata": {
            "tags": []
          },
          "execution_count": 45
        }
      ]
    },
    {
      "cell_type": "code",
      "metadata": {
        "id": "ZoZ0kmZHPAhf",
        "colab_type": "code",
        "colab": {
          "base_uri": "https://localhost:8080/",
          "height": 36
        },
        "outputId": "e129f94d-6324-4c46-a191-3670a169a4ed"
      },
      "source": [
        "#Working with dictionaries now.\n",
        "x = {\"January\":\"Winter\",\"August\":\"Fall\",\"December\":\"Winter\"}\n",
        "x[\"January\"]\n",
        "\n"
      ],
      "execution_count": 50,
      "outputs": [
        {
          "output_type": "execute_result",
          "data": {
            "application/vnd.google.colaboratory.intrinsic+json": {
              "type": "string"
            },
            "text/plain": [
              "'Winter'"
            ]
          },
          "metadata": {
            "tags": []
          },
          "execution_count": 50
        }
      ]
    },
    {
      "cell_type": "code",
      "metadata": {
        "id": "OYNSQfKRP9rq",
        "colab_type": "code",
        "colab": {
          "base_uri": "https://localhost:8080/",
          "height": 36
        },
        "outputId": "4299132c-5587-4b55-a3d9-53f920e40770"
      },
      "source": [
        "x.values()"
      ],
      "execution_count": 51,
      "outputs": [
        {
          "output_type": "execute_result",
          "data": {
            "text/plain": [
              "dict_values(['Winter', 'Fall', 'Winter'])"
            ]
          },
          "metadata": {
            "tags": []
          },
          "execution_count": 51
        }
      ]
    },
    {
      "cell_type": "code",
      "metadata": {
        "id": "2YNKBYSjQGR9",
        "colab_type": "code",
        "colab": {
          "base_uri": "https://localhost:8080/",
          "height": 36
        },
        "outputId": "aa60771f-49d3-4272-df5f-479463372942"
      },
      "source": [
        "x.keys()"
      ],
      "execution_count": 52,
      "outputs": [
        {
          "output_type": "execute_result",
          "data": {
            "text/plain": [
              "dict_keys(['January', 'August', 'December'])"
            ]
          },
          "metadata": {
            "tags": []
          },
          "execution_count": 52
        }
      ]
    },
    {
      "cell_type": "code",
      "metadata": {
        "id": "dSNIGESLQHnS",
        "colab_type": "code",
        "colab": {
          "base_uri": "https://localhost:8080/",
          "height": 36
        },
        "outputId": "83c99f23-2428-47a7-a492-89c545de3fb3"
      },
      "source": [
        "print(x)"
      ],
      "execution_count": 54,
      "outputs": [
        {
          "output_type": "stream",
          "text": [
            "{'January': 'Winter', 'August': 'Fall', 'December': 'Winter'}\n"
          ],
          "name": "stdout"
        }
      ]
    },
    {
      "cell_type": "code",
      "metadata": {
        "id": "UGKGJ5eGQKWn",
        "colab_type": "code",
        "colab": {
          "base_uri": "https://localhost:8080/",
          "height": 74
        },
        "outputId": "c2067cbb-892a-42fa-a30a-465f062a5707"
      },
      "source": [
        "#iterating over a dictionary\n",
        "for month in x.keys():\n",
        "  print(month)"
      ],
      "execution_count": 59,
      "outputs": [
        {
          "output_type": "stream",
          "text": [
            "January\n",
            "August\n",
            "December\n"
          ],
          "name": "stdout"
        }
      ]
    },
    {
      "cell_type": "code",
      "metadata": {
        "id": "sJDSiB3JQXW-",
        "colab_type": "code",
        "colab": {
          "base_uri": "https://localhost:8080/",
          "height": 132
        },
        "outputId": "21c2ed1f-431f-4819-bb33-cb838eecc8de"
      },
      "source": [
        "for season in x.values():\n",
        "  print(season)\n",
        "\n",
        "for month in x:\n",
        "  print(x[month])"
      ],
      "execution_count": 61,
      "outputs": [
        {
          "output_type": "stream",
          "text": [
            "Winter\n",
            "Fall\n",
            "Winter\n",
            "Winter\n",
            "Fall\n",
            "Winter\n"
          ],
          "name": "stdout"
        }
      ]
    },
    {
      "cell_type": "code",
      "metadata": {
        "id": "4IzuQpqMQrrC",
        "colab_type": "code",
        "colab": {}
      },
      "source": [
        "name = ('Lady','Diana','Spencer')\n",
        "title, firstname, lastname = name"
      ],
      "execution_count": 62,
      "outputs": []
    },
    {
      "cell_type": "code",
      "metadata": {
        "id": "r2Lpa6U8RBuc",
        "colab_type": "code",
        "colab": {
          "base_uri": "https://localhost:8080/",
          "height": 55
        },
        "outputId": "56279be9-04f2-4173-8b9d-85b878ed4a75"
      },
      "source": [
        "print(title)\n",
        "print(lastname)"
      ],
      "execution_count": 63,
      "outputs": [
        {
          "output_type": "stream",
          "text": [
            "Lady\n",
            "Spencer\n"
          ],
          "name": "stdout"
        }
      ]
    },
    {
      "cell_type": "markdown",
      "metadata": {
        "id": "wCzW9gFJRKC6",
        "colab_type": "text"
      },
      "source": [
        "**BONUS**"
      ]
    },
    {
      "cell_type": "code",
      "metadata": {
        "id": "t_ZpNYsQREJ_",
        "colab_type": "code",
        "colab": {}
      },
      "source": [
        "#list inside of list\n",
        "color = [['green','yellow'],['blue','yellow'],'red']\n"
      ],
      "execution_count": 64,
      "outputs": []
    },
    {
      "cell_type": "code",
      "metadata": {
        "id": "zbFvpgtxRYQS",
        "colab_type": "code",
        "colab": {
          "base_uri": "https://localhost:8080/",
          "height": 36
        },
        "outputId": "127a0321-9ecd-4a33-d965-71c6660254f5"
      },
      "source": [
        "color[1]"
      ],
      "execution_count": 65,
      "outputs": [
        {
          "output_type": "execute_result",
          "data": {
            "text/plain": [
              "['blue', 'yellow']"
            ]
          },
          "metadata": {
            "tags": []
          },
          "execution_count": 65
        }
      ]
    },
    {
      "cell_type": "code",
      "metadata": {
        "id": "-8lBWJawRct_",
        "colab_type": "code",
        "colab": {
          "base_uri": "https://localhost:8080/",
          "height": 36
        },
        "outputId": "35a60736-da3b-4ef1-ce8c-59ecc6469fd6"
      },
      "source": [
        "color[1][1]"
      ],
      "execution_count": 66,
      "outputs": [
        {
          "output_type": "execute_result",
          "data": {
            "application/vnd.google.colaboratory.intrinsic+json": {
              "type": "string"
            },
            "text/plain": [
              "'yellow'"
            ]
          },
          "metadata": {
            "tags": []
          },
          "execution_count": 66
        }
      ]
    },
    {
      "cell_type": "code",
      "metadata": {
        "id": "UzSbSpyyRepG",
        "colab_type": "code",
        "colab": {
          "base_uri": "https://localhost:8080/",
          "height": 36
        },
        "outputId": "a0fe2e1f-fd0d-4f61-8fb4-79e800bfea10"
      },
      "source": [
        "#more on strings\n",
        "#string formatting\n",
        "\n",
        "bill = {\n",
        "    'items' : 10,\n",
        "    'price' : 132.21,\n",
        "    'day' : 'Thursday'\n",
        "}\n",
        "\n",
        "type(bill)"
      ],
      "execution_count": 67,
      "outputs": [
        {
          "output_type": "execute_result",
          "data": {
            "text/plain": [
              "dict"
            ]
          },
          "metadata": {
            "tags": []
          },
          "execution_count": 67
        }
      ]
    },
    {
      "cell_type": "code",
      "metadata": {
        "id": "3xEZw0WoR-6i",
        "colab_type": "code",
        "colab": {
          "base_uri": "https://localhost:8080/",
          "height": 36
        },
        "outputId": "012bde5c-89ed-45db-ea65-aaef5cebba06"
      },
      "source": [
        "bill_statement = '{} items were bought for {} bucks on {}.'\n",
        "\n",
        "print(bill_statement.format(bill['items'],bill['price'],bill['day']))"
      ],
      "execution_count": 68,
      "outputs": [
        {
          "output_type": "stream",
          "text": [
            "10 items were bought for 132.21 bucks on Thursday.\n"
          ],
          "name": "stdout"
        }
      ]
    },
    {
      "cell_type": "markdown",
      "metadata": {
        "id": "rwNDX0hTSRT7",
        "colab_type": "text"
      },
      "source": [
        "**READING AND WRITING CSV FILES USING PYTHON**\n",
        "\n",
        "-- will do later with the csv file"
      ]
    },
    {
      "cell_type": "markdown",
      "metadata": {
        "id": "_22B6JcxTUK-",
        "colab_type": "text"
      },
      "source": [
        "**DATES AND TIMES IN PYTHON**"
      ]
    },
    {
      "cell_type": "code",
      "metadata": {
        "id": "H0N4gqr6SjYn",
        "colab_type": "code",
        "colab": {}
      },
      "source": [
        "import datetime as dt\n",
        "import time as tm"
      ],
      "execution_count": 70,
      "outputs": []
    },
    {
      "cell_type": "code",
      "metadata": {
        "id": "6xMkHA4kTbG2",
        "colab_type": "code",
        "colab": {
          "base_uri": "https://localhost:8080/",
          "height": 36
        },
        "outputId": "d2847f5e-3ff1-4a48-bf5d-e2ee8520491d"
      },
      "source": [
        "tm.time()\n",
        "#returns the current time in seconds in relation to the Epoch which is 1st January 1970"
      ],
      "execution_count": 71,
      "outputs": [
        {
          "output_type": "execute_result",
          "data": {
            "text/plain": [
              "1596357229.84"
            ]
          },
          "metadata": {
            "tags": []
          },
          "execution_count": 71
        }
      ]
    },
    {
      "cell_type": "code",
      "metadata": {
        "id": "yzezMN7XTjh7",
        "colab_type": "code",
        "colab": {
          "base_uri": "https://localhost:8080/",
          "height": 36
        },
        "outputId": "5f0d2237-9583-4eb5-caa4-9448093b23c3"
      },
      "source": [
        "#convert the timestamp to date\n",
        "datenow = dt.datetime.fromtimestamp(tm.time())\n",
        "datenow"
      ],
      "execution_count": 72,
      "outputs": [
        {
          "output_type": "execute_result",
          "data": {
            "text/plain": [
              "datetime.datetime(2020, 8, 2, 8, 39, 32, 367327)"
            ]
          },
          "metadata": {
            "tags": []
          },
          "execution_count": 72
        }
      ]
    },
    {
      "cell_type": "code",
      "metadata": {
        "id": "1TGEveEcU3Jv",
        "colab_type": "code",
        "colab": {
          "base_uri": "https://localhost:8080/",
          "height": 36
        },
        "outputId": "f526788e-cfe7-4467-c38c-0d4ed19706a3"
      },
      "source": [
        "datenow.year"
      ],
      "execution_count": 73,
      "outputs": [
        {
          "output_type": "execute_result",
          "data": {
            "text/plain": [
              "2020"
            ]
          },
          "metadata": {
            "tags": []
          },
          "execution_count": 73
        }
      ]
    },
    {
      "cell_type": "code",
      "metadata": {
        "id": "GlopASXQU8dc",
        "colab_type": "code",
        "colab": {
          "base_uri": "https://localhost:8080/",
          "height": 36
        },
        "outputId": "88f45151-16bc-442e-9dc3-8beb07bef335"
      },
      "source": [
        "datenow.month"
      ],
      "execution_count": 74,
      "outputs": [
        {
          "output_type": "execute_result",
          "data": {
            "text/plain": [
              "8"
            ]
          },
          "metadata": {
            "tags": []
          },
          "execution_count": 74
        }
      ]
    },
    {
      "cell_type": "code",
      "metadata": {
        "id": "NSZMNGlpU9sp",
        "colab_type": "code",
        "colab": {
          "base_uri": "https://localhost:8080/",
          "height": 36
        },
        "outputId": "846c95a8-fd48-4112-9056-8d4731329a01"
      },
      "source": [
        "datenow.day"
      ],
      "execution_count": 75,
      "outputs": [
        {
          "output_type": "execute_result",
          "data": {
            "text/plain": [
              "2"
            ]
          },
          "metadata": {
            "tags": []
          },
          "execution_count": 75
        }
      ]
    },
    {
      "cell_type": "code",
      "metadata": {
        "id": "4LmEyHF2U_Fy",
        "colab_type": "code",
        "colab": {
          "base_uri": "https://localhost:8080/",
          "height": 36
        },
        "outputId": "fda573ab-6a9e-46e6-eba8-4358ea071a2b"
      },
      "source": [
        "datenow.hour"
      ],
      "execution_count": 76,
      "outputs": [
        {
          "output_type": "execute_result",
          "data": {
            "text/plain": [
              "8"
            ]
          },
          "metadata": {
            "tags": []
          },
          "execution_count": 76
        }
      ]
    },
    {
      "cell_type": "code",
      "metadata": {
        "id": "PkHrzJThVAnf",
        "colab_type": "code",
        "colab": {
          "base_uri": "https://localhost:8080/",
          "height": 36
        },
        "outputId": "9358ae43-2fe1-4a74-f07e-75f0ae28758d"
      },
      "source": [
        "datenow.minute"
      ],
      "execution_count": 77,
      "outputs": [
        {
          "output_type": "execute_result",
          "data": {
            "text/plain": [
              "39"
            ]
          },
          "metadata": {
            "tags": []
          },
          "execution_count": 77
        }
      ]
    },
    {
      "cell_type": "code",
      "metadata": {
        "id": "e-ucusVNVCtW",
        "colab_type": "code",
        "colab": {
          "base_uri": "https://localhost:8080/",
          "height": 36
        },
        "outputId": "aced0a3a-98ec-4e4e-c4ea-7102784d3dea"
      },
      "source": [
        "datenow.second\n"
      ],
      "execution_count": 78,
      "outputs": [
        {
          "output_type": "execute_result",
          "data": {
            "text/plain": [
              "32"
            ]
          },
          "metadata": {
            "tags": []
          },
          "execution_count": 78
        }
      ]
    },
    {
      "cell_type": "markdown",
      "metadata": {
        "id": "4ko5rXxTVPsY",
        "colab_type": "text"
      },
      "source": [
        "**OBJECTS AND MAP()**"
      ]
    },
    {
      "cell_type": "code",
      "metadata": {
        "id": "BQklhHDpVR69",
        "colab_type": "code",
        "colab": {}
      },
      "source": [
        "class Person:\n",
        "  department = \"School of Information\"\n",
        "\n",
        "  def set_name(self, new_name):\n",
        "    self.name = new_name\n",
        "  def set_location(self, new_loc):\n",
        "    self.loc = new_loc\n",
        "    "
      ],
      "execution_count": 79,
      "outputs": []
    },
    {
      "cell_type": "code",
      "metadata": {
        "id": "LKTp0b0CbLHP",
        "colab_type": "code",
        "colab": {
          "base_uri": "https://localhost:8080/",
          "height": 36
        },
        "outputId": "ea0f9271-58d8-4763-e3b4-e1fa4765d3c6"
      },
      "source": [
        "person = Person()\n",
        "person.set_name(\"Margaret Hamilton\")\n",
        "person.set_location(\"Ann Arbor MI\")\n",
        "print('{} lives in {} and works in {} depatment at Michigan.'.format(person.name,person.loc,person.department))"
      ],
      "execution_count": 82,
      "outputs": [
        {
          "output_type": "stream",
          "text": [
            "Margaret Hamilton lives in Ann Arbor MI and works in School of Information depatment at Michigan.\n"
          ],
          "name": "stdout"
        }
      ]
    },
    {
      "cell_type": "code",
      "metadata": {
        "id": "fFtZOEn0bhd4",
        "colab_type": "code",
        "colab": {
          "base_uri": "https://localhost:8080/",
          "height": 36
        },
        "outputId": "3d41e2a1-78aa-41f4-b698-01405393f950"
      },
      "source": [
        "#Mapping the min function\n",
        "s1 = [12.00, 11.00, 3.21, 3.11]\n",
        "s2 = [1.02, 3.21 ]\n",
        "cheapest = map(min, s1, s2)\n",
        "cheapest\n",
        "#lazy evaluation"
      ],
      "execution_count": 85,
      "outputs": [
        {
          "output_type": "execute_result",
          "data": {
            "text/plain": [
              "<map at 0x7f1d88c9db38>"
            ]
          },
          "metadata": {
            "tags": []
          },
          "execution_count": 85
        }
      ]
    },
    {
      "cell_type": "code",
      "metadata": {
        "id": "wcVUuN5Fb8rn",
        "colab_type": "code",
        "colab": {
          "base_uri": "https://localhost:8080/",
          "height": 55
        },
        "outputId": "13272812-c78f-4737-8d48-7811974d2567"
      },
      "source": [
        "for item in cheapest:\n",
        "  print(item)"
      ],
      "execution_count": 86,
      "outputs": [
        {
          "output_type": "stream",
          "text": [
            "1.02\n",
            "3.21\n"
          ],
          "name": "stdout"
        }
      ]
    },
    {
      "cell_type": "markdown",
      "metadata": {
        "id": "XKQ71HEVcGIt",
        "colab_type": "text"
      },
      "source": [
        "**LAMBDA AND LIST COMPREHENSIONS**"
      ]
    },
    {
      "cell_type": "code",
      "metadata": {
        "id": "7o5YvBh6cD1l",
        "colab_type": "code",
        "colab": {}
      },
      "source": [
        "func = lambda a, b, c : a + b"
      ],
      "execution_count": 87,
      "outputs": []
    },
    {
      "cell_type": "code",
      "metadata": {
        "id": "ZVCJ5c3dcOrl",
        "colab_type": "code",
        "colab": {
          "base_uri": "https://localhost:8080/",
          "height": 36
        },
        "outputId": "7a46a4f0-e539-4540-ff52-9dd9d2d36446"
      },
      "source": [
        "func(1, 2, 3)"
      ],
      "execution_count": 88,
      "outputs": [
        {
          "output_type": "execute_result",
          "data": {
            "text/plain": [
              "3"
            ]
          },
          "metadata": {
            "tags": []
          },
          "execution_count": 88
        }
      ]
    },
    {
      "cell_type": "code",
      "metadata": {
        "id": "3cRo7QatcQko",
        "colab_type": "code",
        "colab": {
          "base_uri": "https://localhost:8080/",
          "height": 954
        },
        "outputId": "a7eff172-a352-4991-eeb0-b54137d6822e"
      },
      "source": [
        "#Let us iterate from 0 to 99 and return the odd numbers\n",
        "\n",
        "odd = []\n",
        "for number in range(0,99):\n",
        "  if number % 2 is not 0:\n",
        "    odd.append(number)\n",
        "\n",
        "odd"
      ],
      "execution_count": 92,
      "outputs": [
        {
          "output_type": "execute_result",
          "data": {
            "text/plain": [
              "[1,\n",
              " 3,\n",
              " 5,\n",
              " 7,\n",
              " 9,\n",
              " 11,\n",
              " 13,\n",
              " 15,\n",
              " 17,\n",
              " 19,\n",
              " 21,\n",
              " 23,\n",
              " 25,\n",
              " 27,\n",
              " 29,\n",
              " 31,\n",
              " 33,\n",
              " 35,\n",
              " 37,\n",
              " 39,\n",
              " 41,\n",
              " 43,\n",
              " 45,\n",
              " 47,\n",
              " 49,\n",
              " 51,\n",
              " 53,\n",
              " 55,\n",
              " 57,\n",
              " 59,\n",
              " 61,\n",
              " 63,\n",
              " 65,\n",
              " 67,\n",
              " 69,\n",
              " 71,\n",
              " 73,\n",
              " 75,\n",
              " 77,\n",
              " 79,\n",
              " 81,\n",
              " 83,\n",
              " 85,\n",
              " 87,\n",
              " 89,\n",
              " 91,\n",
              " 93,\n",
              " 95,\n",
              " 97]"
            ]
          },
          "metadata": {
            "tags": []
          },
          "execution_count": 92
        }
      ]
    },
    {
      "cell_type": "code",
      "metadata": {
        "id": "ewFx-883cjek",
        "colab_type": "code",
        "colab": {
          "base_uri": "https://localhost:8080/",
          "height": 954
        },
        "outputId": "4a89777d-eea3-46f5-8284-95c7aa365f70"
      },
      "source": [
        "#now using list comprehension for a compact code\n",
        "odd = [ number for number in range(0,99) if number % 2 is not 0]\n",
        "odd"
      ],
      "execution_count": 93,
      "outputs": [
        {
          "output_type": "execute_result",
          "data": {
            "text/plain": [
              "[1,\n",
              " 3,\n",
              " 5,\n",
              " 7,\n",
              " 9,\n",
              " 11,\n",
              " 13,\n",
              " 15,\n",
              " 17,\n",
              " 19,\n",
              " 21,\n",
              " 23,\n",
              " 25,\n",
              " 27,\n",
              " 29,\n",
              " 31,\n",
              " 33,\n",
              " 35,\n",
              " 37,\n",
              " 39,\n",
              " 41,\n",
              " 43,\n",
              " 45,\n",
              " 47,\n",
              " 49,\n",
              " 51,\n",
              " 53,\n",
              " 55,\n",
              " 57,\n",
              " 59,\n",
              " 61,\n",
              " 63,\n",
              " 65,\n",
              " 67,\n",
              " 69,\n",
              " 71,\n",
              " 73,\n",
              " 75,\n",
              " 77,\n",
              " 79,\n",
              " 81,\n",
              " 83,\n",
              " 85,\n",
              " 87,\n",
              " 89,\n",
              " 91,\n",
              " 93,\n",
              " 95,\n",
              " 97]"
            ]
          },
          "metadata": {
            "tags": []
          },
          "execution_count": 93
        }
      ]
    },
    {
      "cell_type": "code",
      "metadata": {
        "id": "iTAaEQG8c57j",
        "colab_type": "code",
        "colab": {}
      },
      "source": [
        ""
      ],
      "execution_count": null,
      "outputs": []
    }
  ]
}